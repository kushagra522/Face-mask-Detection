{
 "cells": [
  {
   "cell_type": "code",
   "execution_count": 12,
   "metadata": {},
   "outputs": [],
   "source": [
    "# import the necessary packages\n",
    "import keras\n",
    "from tensorflow.keras.preprocessing.image import ImageDataGenerator\n",
    "from tensorflow.keras.applications import MobileNetV2\n",
    "from tensorflow.keras.layers import AveragePooling2D\n",
    "from tensorflow.keras.layers import Dropout\n",
    "from tensorflow.keras.layers import Flatten\n",
    "from tensorflow.keras.layers import Dense\n",
    "from tensorflow.keras.layers import Input\n",
    "from tensorflow.keras.models import Model\n",
    "from tensorflow.keras.optimizers import Adam\n",
    "from tensorflow.keras.applications.mobilenet_v2 import preprocess_input\n",
    "from tensorflow.keras.preprocessing.image import img_to_array\n",
    "from tensorflow.keras.preprocessing.image import load_img\n",
    "from tensorflow.keras.utils import to_categorical\n",
    "from sklearn.preprocessing import LabelBinarizer\n",
    "from sklearn.model_selection import train_test_split\n",
    "from sklearn.metrics import classification_report\n",
    "from imutils import paths\n",
    "import matplotlib.pyplot as plt\n",
    "import numpy as np\n",
    "import os"
   ]
  },
  {
   "cell_type": "code",
   "execution_count": 11,
   "metadata": {},
   "outputs": [
    {
     "name": "stdout",
     "output_type": "stream",
     "text": [
      "2.3.0\n",
      "2.2.4\n"
     ]
    }
   ],
   "source": [
    "import tensorflow as tf\n",
    "import keras\n",
    "print(tf.__version__)\n",
    "print(keras.__version__)"
   ]
  },
  {
   "cell_type": "code",
   "execution_count": 2,
   "metadata": {},
   "outputs": [],
   "source": [
    "INIT_LR = 1e-4\n",
    "EPOCHS = 20\n",
    "BS = 32\n",
    "\n",
    "DIRECTORY = r\"C:\\Users\\Kushagra\\Desktop\\Projects\\Face-Mask-Detection-master\\Face-Mask-Detection-master\\dataset\"\n",
    "CATEGORIES = [\"with_mask\", \"without_mask\"]"
   ]
  },
  {
   "cell_type": "code",
   "execution_count": 13,
   "metadata": {},
   "outputs": [
    {
     "name": "stderr",
     "output_type": "stream",
     "text": [
      "C:\\Users\\Kushagra\\Anaconda3\\envs\\py3.6-TF2.3\\lib\\site-packages\\PIL\\Image.py:961: UserWarning: Palette images with Transparency expressed in bytes should be converted to RGBA images\n",
      "  \"Palette images with Transparency expressed in bytes should be \"\n"
     ]
    }
   ],
   "source": [
    "data = []\n",
    "labels = []\n",
    "\n",
    "for category in CATEGORIES:\n",
    "    path = os.path.join(DIRECTORY, category)\n",
    "    for img in os.listdir(path):\n",
    "        img_path = os.path.join(path, img)\n",
    "        image = tf.keras.preprocessing.image.load_img(img_path, target_size=(224, 224))\n",
    "        image = img_to_array(image)\n",
    "        image = preprocess_input(image)\n",
    "\n",
    "        data.append(image)\n",
    "        labels.append(category)"
   ]
  },
  {
   "cell_type": "markdown",
   "metadata": {},
   "source": [
    "Lets check what is it in our data and labels"
   ]
  },
  {
   "cell_type": "code",
   "execution_count": 18,
   "metadata": {},
   "outputs": [
    {
     "name": "stdout",
     "output_type": "stream",
     "text": [
      "[[[-0.45098037 -0.49019605 -0.44313723]\n",
      "  [-0.45098037 -0.49019605 -0.44313723]\n",
      "  [-0.45098037 -0.49019605 -0.44313723]\n",
      "  ...\n",
      "  [-0.41176468 -0.62352943 -0.75686276]\n",
      "  [-0.41176468 -0.62352943 -0.75686276]\n",
      "  [-0.41176468 -0.62352943 -0.75686276]]\n",
      "\n",
      " [[-0.45098037 -0.49019605 -0.44313723]\n",
      "  [-0.45098037 -0.49019605 -0.44313723]\n",
      "  [-0.45098037 -0.49019605 -0.44313723]\n",
      "  ...\n",
      "  [-0.41176468 -0.62352943 -0.75686276]\n",
      "  [-0.41176468 -0.62352943 -0.75686276]\n",
      "  [-0.41176468 -0.62352943 -0.75686276]]\n",
      "\n",
      " [[-0.3960784  -0.45098037 -0.3960784 ]\n",
      "  [-0.3960784  -0.45098037 -0.3960784 ]\n",
      "  [-0.3960784  -0.45098037 -0.3960784 ]\n",
      "  ...\n",
      "  [-0.45098037 -0.62352943 -0.8039216 ]\n",
      "  [-0.45098037 -0.62352943 -0.8039216 ]\n",
      "  [-0.45098037 -0.62352943 -0.8039216 ]]\n",
      "\n",
      " ...\n",
      "\n",
      " [[-0.46666664 -0.67058825 -0.8039216 ]\n",
      "  [-0.46666664 -0.67058825 -0.8039216 ]\n",
      "  [-0.46666664 -0.67058825 -0.8039216 ]\n",
      "  ...\n",
      "  [-0.3490196  -0.52156866 -0.6313726 ]\n",
      "  [-0.3490196  -0.52156866 -0.6313726 ]\n",
      "  [-0.3490196  -0.52156866 -0.6313726 ]]\n",
      "\n",
      " [[-0.45098037 -0.6784314  -0.8039216 ]\n",
      "  [-0.45098037 -0.6784314  -0.8039216 ]\n",
      "  [-0.45098037 -0.6784314  -0.8039216 ]\n",
      "  ...\n",
      "  [-0.34117645 -0.54509807 -0.64705884]\n",
      "  [-0.34117645 -0.54509807 -0.64705884]\n",
      "  [-0.34117645 -0.54509807 -0.64705884]]\n",
      "\n",
      " [[-0.45098037 -0.6784314  -0.8039216 ]\n",
      "  [-0.45098037 -0.6784314  -0.8039216 ]\n",
      "  [-0.45098037 -0.6784314  -0.8039216 ]\n",
      "  ...\n",
      "  [-0.34117645 -0.54509807 -0.64705884]\n",
      "  [-0.34117645 -0.54509807 -0.64705884]\n",
      "  [-0.34117645 -0.54509807 -0.64705884]]]\n",
      "[1. 0.]\n",
      "<class 'numpy.ndarray'>\n"
     ]
    }
   ],
   "source": [
    "print(data[0])\n",
    "print(labels[0])\n"
   ]
  },
  {
   "cell_type": "markdown",
   "metadata": {},
   "source": [
    "As we can see that the data contains the converted image to array i.e as pixel values and label contain its value, i.e with_mask, since our pc recognize only numerical value we gonna one hot enode the labels values."
   ]
  },
  {
   "cell_type": "code",
   "execution_count": 17,
   "metadata": {},
   "outputs": [],
   "source": [
    "lb = LabelBinarizer()\n",
    "labels = lb.fit_transform(labels)\n",
    "labels = to_categorical(labels)\n",
    "data = np.array(data,dtype=\"float32\")\n",
    "labels = np.array(labels)"
   ]
  },
  {
   "cell_type": "code",
   "execution_count": 19,
   "metadata": {},
   "outputs": [],
   "source": [
    "X_train,X_test,y_train,y_test = train_test_split(data,labels,test_size = 0.2\n",
    "                                                 ,stratify=labels,\n",
    "                                                random_state = 42)"
   ]
  },
  {
   "cell_type": "code",
   "execution_count": 20,
   "metadata": {},
   "outputs": [],
   "source": [
    "aug = ImageDataGenerator(\n",
    "    rotation_range=20,\n",
    "    zoom_range=0.15,\n",
    "    width_shift_range=0.2,\n",
    "    height_shift_range=0.2,\n",
    "    shear_range=0.15,\n",
    "    horizontal_flip=True,\n",
    "    fill_mode=\"nearest\")\n"
   ]
  },
  {
   "cell_type": "code",
   "execution_count": 21,
   "metadata": {},
   "outputs": [
    {
     "name": "stdout",
     "output_type": "stream",
     "text": [
      "WARNING:tensorflow:`input_shape` is undefined or non-square, or `rows` is not in [96, 128, 160, 192, 224]. Weights for input shape (224, 224) will be loaded as the default.\n",
      "Downloading data from https://storage.googleapis.com/tensorflow/keras-applications/mobilenet_v2/mobilenet_v2_weights_tf_dim_ordering_tf_kernels_1.0_224_no_top.h5\n",
      "9412608/9406464 [==============================] - 15s 2us/step\n"
     ]
    }
   ],
   "source": [
    "basemodel = MobileNetV2(weights='imagenet',include_top=False,\n",
    "                       input_tensor=Input(shape=(224,224,3)))"
   ]
  },
  {
   "cell_type": "code",
   "execution_count": 24,
   "metadata": {},
   "outputs": [],
   "source": [
    "hmodel = basemodel.output\n",
    "hmodel = AveragePooling2D(pool_size = (7,7))(hmodel)\n",
    "hmodel = Flatten(name=\"flatten\")(hmodel)\n",
    "hmodel = Dense(128,activation='relu')(hmodel)\n",
    "hmodel = Dropout(0.5)(hmodel)\n",
    "hmodel = Dense(2,activation='softmax')(hmodel)\n",
    "model = Model(inputs=basemodel.input,outputs=hmodel)"
   ]
  },
  {
   "cell_type": "code",
   "execution_count": 26,
   "metadata": {},
   "outputs": [],
   "source": [
    "for layer in basemodel.layers:\n",
    "    layer.trainable=False\n",
    "opt = Adam(learning_rate=INIT_LR,decay = INIT_LR/EPOCHS)\n",
    "model.compile(loss='binary_crossentropy',optimizer=opt,\n",
    "             metrics=['accuracy'])"
   ]
  },
  {
   "cell_type": "code",
   "execution_count": 28,
   "metadata": {},
   "outputs": [
    {
     "name": "stdout",
     "output_type": "stream",
     "text": [
      "Epoch 1/20\n",
      "95/95 [==============================] - 86s 901ms/step - loss: 0.3154 - accuracy: 0.8593 - val_loss: 0.0808 - val_accuracy: 0.9857\n",
      "Epoch 2/20\n",
      "95/95 [==============================] - 88s 930ms/step - loss: 0.1063 - accuracy: 0.9631 - val_loss: 0.0521 - val_accuracy: 0.9883\n",
      "Epoch 3/20\n",
      "95/95 [==============================] - 98s 1s/step - loss: 0.0750 - accuracy: 0.9759 - val_loss: 0.0413 - val_accuracy: 0.9896\n",
      "Epoch 4/20\n",
      "95/95 [==============================] - 110s 1s/step - loss: 0.0668 - accuracy: 0.9776 - val_loss: 0.0369 - val_accuracy: 0.9909\n",
      "Epoch 5/20\n",
      "95/95 [==============================] - 100s 1s/step - loss: 0.0544 - accuracy: 0.9819 - val_loss: 0.0355 - val_accuracy: 0.9883\n",
      "Epoch 6/20\n",
      "95/95 [==============================] - 87s 911ms/step - loss: 0.0509 - accuracy: 0.9825 - val_loss: 0.0331 - val_accuracy: 0.9883\n",
      "Epoch 7/20\n",
      "95/95 [==============================] - 87s 917ms/step - loss: 0.0420 - accuracy: 0.9852 - val_loss: 0.0299 - val_accuracy: 0.9883\n",
      "Epoch 8/20\n",
      "95/95 [==============================] - 104s 1s/step - loss: 0.0388 - accuracy: 0.9868 - val_loss: 0.0284 - val_accuracy: 0.9935\n",
      "Epoch 9/20\n",
      "95/95 [==============================] - 91s 954ms/step - loss: 0.0408 - accuracy: 0.9848 - val_loss: 0.0272 - val_accuracy: 0.9935\n",
      "Epoch 10/20\n",
      "95/95 [==============================] - 88s 926ms/step - loss: 0.0326 - accuracy: 0.9895 - val_loss: 0.0271 - val_accuracy: 0.9935\n",
      "Epoch 11/20\n",
      "95/95 [==============================] - 88s 929ms/step - loss: 0.0341 - accuracy: 0.9888 - val_loss: 0.0277 - val_accuracy: 0.9935\n",
      "Epoch 12/20\n",
      "95/95 [==============================] - 88s 927ms/step - loss: 0.0334 - accuracy: 0.9904 - val_loss: 0.0270 - val_accuracy: 0.9935\n",
      "Epoch 13/20\n",
      "95/95 [==============================] - 88s 922ms/step - loss: 0.0299 - accuracy: 0.9888 - val_loss: 0.0348 - val_accuracy: 0.9909\n",
      "Epoch 14/20\n",
      "95/95 [==============================] - 88s 928ms/step - loss: 0.0258 - accuracy: 0.9937 - val_loss: 0.0295 - val_accuracy: 0.9909\n",
      "Epoch 15/20\n",
      "95/95 [==============================] - 88s 922ms/step - loss: 0.0267 - accuracy: 0.9914 - val_loss: 0.0246 - val_accuracy: 0.9935\n",
      "Epoch 16/20\n",
      "95/95 [==============================] - 88s 921ms/step - loss: 0.0249 - accuracy: 0.9927 - val_loss: 0.0279 - val_accuracy: 0.9909\n",
      "Epoch 17/20\n",
      "95/95 [==============================] - 89s 934ms/step - loss: 0.0274 - accuracy: 0.9904 - val_loss: 0.0251 - val_accuracy: 0.9935\n",
      "Epoch 18/20\n",
      "95/95 [==============================] - 88s 923ms/step - loss: 0.0225 - accuracy: 0.9934 - val_loss: 0.0291 - val_accuracy: 0.9922\n",
      "Epoch 19/20\n",
      "95/95 [==============================] - 87s 919ms/step - loss: 0.0216 - accuracy: 0.9914 - val_loss: 0.0270 - val_accuracy: 0.9922\n",
      "Epoch 20/20\n",
      "95/95 [==============================] - 88s 928ms/step - loss: 0.0224 - accuracy: 0.9921 - val_loss: 0.0258 - val_accuracy: 0.9909\n"
     ]
    }
   ],
   "source": [
    "history = model.fit(\n",
    "            aug.flow(X_train,y_train,batch_size=BS),\n",
    "            steps_per_epoch=len(X_train)//BS,\n",
    "            validation_data=(X_test,y_test),\n",
    "            validation_steps=len(X_test)//BS,\n",
    "            epochs=EPOCHS)"
   ]
  },
  {
   "cell_type": "code",
   "execution_count": 29,
   "metadata": {},
   "outputs": [
    {
     "name": "stdout",
     "output_type": "stream",
     "text": [
      "              precision    recall  f1-score   support\n",
      "\n",
      "   with_mask       0.99      0.99      0.99       383\n",
      "without_mask       0.99      0.99      0.99       384\n",
      "\n",
      "    accuracy                           0.99       767\n",
      "   macro avg       0.99      0.99      0.99       767\n",
      "weighted avg       0.99      0.99      0.99       767\n",
      "\n"
     ]
    }
   ],
   "source": [
    "pred = model.predict(X_test,batch_size=BS)\n",
    "predict = np.argmax(pred,axis=1)\n",
    "print(classification_report(y_test.argmax(axis=1),predict,\n",
    "                           target_names=lb.classes_))"
   ]
  },
  {
   "cell_type": "code",
   "execution_count": 30,
   "metadata": {},
   "outputs": [],
   "source": [
    "model.save(\"mask_detector.\")"
   ]
  },
  {
   "cell_type": "code",
   "execution_count": 32,
   "metadata": {},
   "outputs": [
    {
     "data": {
      "image/png": "[encoded data removed]",
      "text/plain": [
       "<Figure size 432x288 with 1 Axes>"
      ]
     },
     "metadata": {},
     "output_type": "display_data"
    }
   ],
   "source": [
    "N = EPOCHS\n",
    "plt.style.use(\"ggplot\")\n",
    "plt.figure()\n",
    "plt.plot(np.arange(0, N), history.history[\"loss\"], label=\"train_loss\")\n",
    "plt.plot(np.arange(0, N), history.history[\"val_loss\"], label=\"val_loss\")\n",
    "plt.plot(np.arange(0, N), history.history[\"accuracy\"], label=\"train_acc\")\n",
    "plt.plot(np.arange(0, N), history.history[\"val_accuracy\"], label=\"val_acc\")\n",
    "plt.title(\"Training Loss and Accuracy\")\n",
    "plt.xlabel(\"Epoch #\")\n",
    "plt.ylabel(\"Loss/Accuracy\")\n",
    "plt.legend(loc=\"lower left\")\n",
    "plt.savefig(\"plot.png\")"
   ]
  },
  {
   "cell_type": "code",
   "execution_count": null,
   "metadata": {},
   "outputs": [],
   "source": []
  }
 ],
 "metadata": {
  "kernelspec": {
   "display_name": "Python [conda env:py3.6-TF2.3]",
   "language": "python",
   "name": "conda-env-py3.6-TF2.3-py"
  },
  "language_info": {
   "codemirror_mode": {
    "name": "ipython",
    "version": 3
   },
   "file_extension": ".py",
   "mimetype": "text/x-python",
   "name": "python",
   "nbconvert_exporter": "python",
   "pygments_lexer": "ipython3",
   "version": "3.6.9"
  }
 },
 "nbformat": 4,
 "nbformat_minor": 2
}
